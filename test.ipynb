{
 "cells": [
  {
   "cell_type": "code",
   "execution_count": 93,
   "id": "2ade717b",
   "metadata": {},
   "outputs": [],
   "source": [
    "flowerbed = [0,1,0,0,1,0,0]\n",
    "n = 1\n",
    "Output: True\n",
    "\n",
    "def canPlaceFlowers(flowerbed, n):\n",
    "    top = 0\n",
    "    if len(flowerbed)%2 == 0:\n",
    "        top = len(flowerbed)//2\n",
    "    else:\n",
    "        top = len(flowerbed)//2+1\n",
    "        \n",
    "    number_1 = flowerbed.count(1)\n",
    "    number_0 = flowerbed.count(0)\n",
    "    \n",
    "    if number_0 > n*3 and flowerbed[0] == 1:\n",
    "        return True\n",
    "    else:\n",
    "        return False\n",
    "    "
   ]
  },
  {
   "cell_type": "code",
   "execution_count": 94,
   "id": "ffacf2e1",
   "metadata": {},
   "outputs": [
    {
     "data": {
      "text/plain": [
       "False"
      ]
     },
     "execution_count": 94,
     "metadata": {},
     "output_type": "execute_result"
    }
   ],
   "source": [
    "canPlaceFlowers(flowerbed, n)"
   ]
  },
  {
   "cell_type": "code",
   "execution_count": 87,
   "id": "236404dd",
   "metadata": {},
   "outputs": [],
   "source": [
    "flowerbed = [0,0,1,0,0,1,0,0]\n",
    "n = 2\n",
    "Output: True\n",
    "\n",
    "\n",
    "top = 0\n",
    "if len(flowerbed)%2 == 0:\n",
    "    top = len(flowerbed)//2\n",
    "else:\n",
    "    top = len(flowerbed)//2+1\n",
    "\n",
    "number_1 = flowerbed.count(1)\n",
    "number_0 = flowerbed.count(0)"
   ]
  },
  {
   "cell_type": "code",
   "execution_count": 88,
   "id": "26a10fa7",
   "metadata": {},
   "outputs": [
    {
     "data": {
      "text/plain": [
       "6"
      ]
     },
     "execution_count": 88,
     "metadata": {},
     "output_type": "execute_result"
    }
   ],
   "source": [
    "n*3"
   ]
  },
  {
   "cell_type": "code",
   "execution_count": 76,
   "id": "e16f7d3f",
   "metadata": {},
   "outputs": [
    {
     "data": {
      "text/plain": [
       "2"
      ]
     },
     "execution_count": 76,
     "metadata": {},
     "output_type": "execute_result"
    }
   ],
   "source": [
    "number_1"
   ]
  },
  {
   "cell_type": "code",
   "execution_count": 77,
   "id": "af3db1c1",
   "metadata": {},
   "outputs": [
    {
     "data": {
      "text/plain": [
       "6"
      ]
     },
     "execution_count": 77,
     "metadata": {},
     "output_type": "execute_result"
    }
   ],
   "source": [
    "number_0"
   ]
  },
  {
   "cell_type": "code",
   "execution_count": null,
   "id": "a837ed54",
   "metadata": {},
   "outputs": [],
   "source": []
  },
  {
   "cell_type": "code",
   "execution_count": 82,
   "id": "8e8fe9dc",
   "metadata": {},
   "outputs": [
    {
     "data": {
      "text/plain": [
       "False"
      ]
     },
     "execution_count": 82,
     "metadata": {},
     "output_type": "execute_result"
    }
   ],
   "source": []
  },
  {
   "cell_type": "code",
   "execution_count": null,
   "id": "97c61132",
   "metadata": {},
   "outputs": [],
   "source": []
  }
 ],
 "metadata": {
  "kernelspec": {
   "display_name": "Python 3 (ipykernel)",
   "language": "python",
   "name": "python3"
  },
  "language_info": {
   "codemirror_mode": {
    "name": "ipython",
    "version": 3
   },
   "file_extension": ".py",
   "mimetype": "text/x-python",
   "name": "python",
   "nbconvert_exporter": "python",
   "pygments_lexer": "ipython3",
   "version": "3.10.6"
  },
  "toc": {
   "base_numbering": 1,
   "nav_menu": {},
   "number_sections": true,
   "sideBar": true,
   "skip_h1_title": false,
   "title_cell": "Table of Contents",
   "title_sidebar": "Contents",
   "toc_cell": false,
   "toc_position": {},
   "toc_section_display": true,
   "toc_window_display": false
  }
 },
 "nbformat": 4,
 "nbformat_minor": 5
}
