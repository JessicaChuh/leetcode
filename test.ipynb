{
 "cells": [
  {
   "cell_type": "code",
   "execution_count": 99,
   "id": "2ade717b",
   "metadata": {},
   "outputs": [],
   "source": [
    "flowerbed = [0,0,1,0,0,1,0,0]\n",
    "n = 2\n",
    "Output: True\n",
    "\n",
    "def canPlaceFlowers(flowerbed, n):\n",
    "    top = 0\n",
    "    if len(flowerbed)%2 == 0:\n",
    "        top = len(flowerbed)//2\n",
    "    else:\n",
    "        top = len(flowerbed)//2+1\n",
    "        \n",
    "    number_1 = flowerbed.count(1)\n",
    "    number_0 = flowerbed.count(0)\n",
    "    \n",
    "    if number_0 > n*3:\n",
    "        return True\n",
    "    else:\n",
    "        return False\n",
    "    "
   ]
  },
  {
   "cell_type": "code",
   "execution_count": 100,
   "id": "dbaee7cb",
   "metadata": {},
   "outputs": [
    {
     "data": {
      "text/plain": [
       "False"
      ]
     },
     "execution_count": 100,
     "metadata": {},
     "output_type": "execute_result"
    }
   ],
   "source": [
    "canPlaceFlowers(flowerbed, n)"
   ]
  },
  {
   "cell_type": "code",
   "execution_count": 87,
   "id": "a8aafd33",
   "metadata": {},
   "outputs": [],
   "source": [
    "flowerbed = [0,0,1,0,0,1,0,0]\n",
    "n = 2\n",
    "Output: True\n",
    "\n",
    "\n",
    "top = 0\n",
    "if len(flowerbed)%2 == 0:\n",
    "    top = len(flowerbed)//2\n",
    "else:\n",
    "    top = len(flowerbed)//2+1\n",
    "\n",
    "number_1 = flowerbed.count(1)\n",
    "number_0 = flowerbed.count(0)"
   ]
  },
  {
   "cell_type": "code",
   "execution_count": 88,
   "id": "cd069561",
   "metadata": {},
   "outputs": [
    {
     "data": {
      "text/plain": [
       "6"
      ]
     },
     "execution_count": 88,
     "metadata": {},
     "output_type": "execute_result"
    }
   ],
   "source": [
    "n*3"
   ]
  },
  {
   "cell_type": "code",
   "execution_count": 76,
   "id": "ca046813",
   "metadata": {},
   "outputs": [
    {
     "data": {
      "text/plain": [
       "2"
      ]
     },
     "execution_count": 76,
     "metadata": {},
     "output_type": "execute_result"
    }
   ],
   "source": [
    "number_1"
   ]
  },
  {
   "cell_type": "code",
   "execution_count": 77,
   "id": "011667ec",
   "metadata": {},
   "outputs": [
    {
     "data": {
      "text/plain": [
       "6"
      ]
     },
     "execution_count": 77,
     "metadata": {},
     "output_type": "execute_result"
    }
   ],
   "source": [
    "number_0"
   ]
  },
  {
   "cell_type": "code",
   "execution_count": null,
   "id": "f89dfb74",
   "metadata": {},
   "outputs": [],
   "source": []
  },
  {
   "cell_type": "code",
   "execution_count": 82,
   "id": "8e8fe9dc",
   "metadata": {},
   "outputs": [
    {
     "data": {
      "text/plain": [
       "False"
      ]
     },
     "execution_count": 82,
     "metadata": {},
     "output_type": "execute_result"
    }
   ],
   "source": []
  },
  {
   "cell_type": "code",
   "execution_count": null,
   "id": "5102b61d",
   "metadata": {},
   "outputs": [],
   "source": []
  }
 ],
 "metadata": {
  "kernelspec": {
   "display_name": "Python 3 (ipykernel)",
   "language": "python",
   "name": "python3"
  },
  "language_info": {
   "codemirror_mode": {
    "name": "ipython",
    "version": 3
   },
   "file_extension": ".py",
   "mimetype": "text/x-python",
   "name": "python",
   "nbconvert_exporter": "python",
   "pygments_lexer": "ipython3",
   "version": "3.10.6"
  },
  "toc": {
   "base_numbering": 1,
   "nav_menu": {},
   "number_sections": true,
   "sideBar": true,
   "skip_h1_title": false,
   "title_cell": "Table of Contents",
   "title_sidebar": "Contents",
   "toc_cell": false,
   "toc_position": {},
   "toc_section_display": true,
   "toc_window_display": false
  }
 },
 "nbformat": 4,
 "nbformat_minor": 5
}
